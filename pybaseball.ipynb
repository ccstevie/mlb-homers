{
 "cells": [
  {
   "cell_type": "code",
   "execution_count": 17,
   "metadata": {},
   "outputs": [],
   "source": [
    "from pybaseball import playerid_lookup\n",
    "from pybaseball import statcast_batter\n",
    "from pybaseball import statcast_pitcher\n"
   ]
  },
  {
   "cell_type": "code",
   "execution_count": 18,
   "metadata": {},
   "outputs": [
    {
     "name": "stdout",
     "output_type": "stream",
     "text": [
      "660670\n"
     ]
    }
   ],
   "source": [
    "player_id = int(playerid_lookup('Elly De La Cruz').key_mlbam)\n",
    "print(player_id)"
   ]
  },
  {
   "cell_type": "code",
   "execution_count": 16,
   "metadata": {},
   "outputs": [
    {
     "name": "stdout",
     "output_type": "stream",
     "text": [
      "Gathering Player Data\n",
      "     pitch_type   game_date  release_speed  release_pos_x  release_pos_z  \\\n",
      "0            FC  2023-07-15           87.8          -3.33           5.60   \n",
      "1            FC  2023-07-15           88.4          -3.52           5.49   \n",
      "2            FC  2023-07-15           88.1          -3.25           5.51   \n",
      "3            FC  2023-07-15           89.1          -3.24           5.53   \n",
      "4            FC  2023-07-15           90.5          -3.22           5.68   \n",
      "...         ...         ...            ...            ...            ...   \n",
      "1577         ST  2023-04-01           79.8          -1.15           5.62   \n",
      "1578         ST  2023-04-01           80.7          -1.15           5.71   \n",
      "1579         SL  2023-04-01           87.3          -1.99           5.27   \n",
      "1580         SL  2023-04-01           85.9          -2.00           5.25   \n",
      "1581         SL  2023-04-01           86.3          -1.96           5.35   \n",
      "\n",
      "            player_name  batter  pitcher     events      description  ...  \\\n",
      "0     Acuña Jr., Ronald  660670   458681  field_out    hit_into_play  ...   \n",
      "1     Acuña Jr., Ronald  660670   458681   home_run    hit_into_play  ...   \n",
      "2     Acuña Jr., Ronald  660670   458681        NaN             ball  ...   \n",
      "3     Acuña Jr., Ronald  660670   458681        NaN             ball  ...   \n",
      "4     Acuña Jr., Ronald  660670   458681        NaN             ball  ...   \n",
      "...                 ...     ...      ...        ...              ...  ...   \n",
      "1577  Acuña Jr., Ronald  660670   663658        NaN         foul_tip  ...   \n",
      "1578  Acuña Jr., Ronald  660670   663658        NaN    called_strike  ...   \n",
      "1579  Acuña Jr., Ronald  660670   680686   home_run    hit_into_play  ...   \n",
      "1580  Acuña Jr., Ronald  660670   680686        NaN    called_strike  ...   \n",
      "1581  Acuña Jr., Ronald  660670   680686        NaN  swinging_strike  ...   \n",
      "\n",
      "      fld_score  post_away_score  post_home_score  post_bat_score  \\\n",
      "0             4                4                3               3   \n",
      "1             3                3                3               3   \n",
      "2             3                3                1               1   \n",
      "3             3                3                1               1   \n",
      "4             3                3                1               1   \n",
      "...         ...              ...              ...             ...   \n",
      "1577          0                5                0               5   \n",
      "1578          0                5                0               5   \n",
      "1579          0                1                0               1   \n",
      "1580          0                0                0               0   \n",
      "1581          0                0                0               0   \n",
      "\n",
      "      post_fld_score if_fielding_alignment of_fielding_alignment spin_axis  \\\n",
      "0                  4              Standard              Standard     180.0   \n",
      "1                  3              Standard              Standard     145.0   \n",
      "2                  3              Standard              Standard     138.0   \n",
      "3                  3              Standard              Standard     170.0   \n",
      "4                  3              Standard              Standard     185.0   \n",
      "...              ...                   ...                   ...       ...   \n",
      "1577               0              Standard              Standard      57.0   \n",
      "1578               0              Standard              Standard      56.0   \n",
      "1579               0              Standard              Standard     196.0   \n",
      "1580               0              Standard              Standard     205.0   \n",
      "1581               0              Standard              Standard     207.0   \n",
      "\n",
      "     delta_home_win_exp delta_run_exp  \n",
      "0                -0.024        -0.170  \n",
      "1                 0.208         1.637  \n",
      "2                 0.000         0.096  \n",
      "3                 0.000         0.055  \n",
      "4                 0.000         0.027  \n",
      "...                 ...           ...  \n",
      "1577              0.000        -0.063  \n",
      "1578              0.000        -0.053  \n",
      "1579             -0.101         1.087  \n",
      "1580              0.000        -0.048  \n",
      "1581              0.000        -0.038  \n",
      "\n",
      "[1582 rows x 92 columns]\n"
     ]
    }
   ],
   "source": [
    "data = statcast_batter('2023-04-01', '2023-07-15', player_id=player_id)\n",
    "print(data)"
   ]
  }
 ],
 "metadata": {
  "kernelspec": {
   "display_name": "Python 3",
   "language": "python",
   "name": "python3"
  },
  "language_info": {
   "codemirror_mode": {
    "name": "ipython",
    "version": 3
   },
   "file_extension": ".py",
   "mimetype": "text/x-python",
   "name": "python",
   "nbconvert_exporter": "python",
   "pygments_lexer": "ipython3",
   "version": "3.10.5"
  },
  "orig_nbformat": 4
 },
 "nbformat": 4,
 "nbformat_minor": 2
}
